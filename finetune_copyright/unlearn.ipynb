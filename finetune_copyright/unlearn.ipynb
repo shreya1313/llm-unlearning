{
 "cells": [
  {
   "cell_type": "markdown",
   "metadata": {},
   "source": [
    "## Unlearn finetuned model"
   ]
  },
  {
   "cell_type": "code",
   "execution_count": 40,
   "metadata": {},
   "outputs": [],
   "source": [
    "from transformers import AutoModelForCausalLM, AutoTokenizer\n",
    "from accelerate import Accelerator\n",
    "from peft import PeftModel\n",
    "import torch\n",
    "import config\n",
    "import args\n",
    "import pickle\n",
    "import utils\n",
    "from utils import create_lotr_dataloader_from_dataset, get_answer_loss\n",
    "from transformers import DataCollatorForLanguageModeling, get_scheduler\n",
    "from torch.optim import AdamW\n",
    "from accelerate import Accelerator\n",
    "import importlib"
   ]
  },
  {
   "cell_type": "code",
   "execution_count": 39,
   "metadata": {},
   "outputs": [
    {
     "data": {
      "text/plain": [
       "<module 'utils' from '/scratch/sa6981/llm_unlearn/finetune_copyright/utils.py'>"
      ]
     },
     "execution_count": 39,
     "metadata": {},
     "output_type": "execute_result"
    }
   ],
   "source": [
    "importlib.reload(utils)"
   ]
  },
  {
   "cell_type": "code",
   "execution_count": 3,
   "metadata": {},
   "outputs": [],
   "source": [
    "device = torch.device(\"cuda\") if torch.cuda.is_available() else torch.device(\"cpu\")"
   ]
  },
  {
   "cell_type": "code",
   "execution_count": 22,
   "metadata": {},
   "outputs": [],
   "source": [
    "pretrained_model = AutoModelForCausalLM.from_pretrained(config.model_name, return_dict=True, load_in_8bit=True)\n",
    "# pretrained_model.to(device)\n",
    "\n",
    "tokenizer = AutoTokenizer.from_pretrained(config.model_name)\n",
    "# # Load the Lora model\n",
    "model = PeftModel.from_pretrained(pretrained_model, \"/scratch/sa6981/llm_unlearn/finetune_copyright/models/finetune_1.3b\")"
   ]
  },
  {
   "cell_type": "code",
   "execution_count": 26,
   "metadata": {},
   "outputs": [],
   "source": [
    "optimizer = AdamW(model.parameters(), lr=args.lr)"
   ]
  },
  {
   "cell_type": "code",
   "execution_count": 27,
   "metadata": {},
   "outputs": [],
   "source": [
    "num_training_steps = args.max_unlearn_steps\n",
    "lr_scheduler = get_scheduler(\n",
    "    name=\"linear\",\n",
    "    optimizer=optimizer,\n",
    "    num_warmup_steps=0,\n",
    "    num_training_steps=num_training_steps,\n",
    ")"
   ]
  },
  {
   "cell_type": "code",
   "execution_count": 13,
   "metadata": {},
   "outputs": [],
   "source": [
    "import pickle\n",
    "with open('dataset_dict.pkl', 'rb') as f:\n",
    "    dataset = pickle.load(f)"
   ]
  },
  {
   "cell_type": "code",
   "execution_count": 18,
   "metadata": {},
   "outputs": [],
   "source": [
    "# def create_lotr_dataloader_from_dataset(tokenizer, dataset, batch_size=4):\n",
    "#     data_collator = DataCollatorForLanguageModeling(tokenizer=tokenizer, mlm=False)\n",
    "#     dataloader = torch.utils.data.DataLoader(\n",
    "#         dataset, batch_size=batch_size, collate_fn=data_collator\n",
    "#     )\n",
    "#     return dataloader"
   ]
  },
  {
   "cell_type": "code",
   "execution_count": 41,
   "metadata": {},
   "outputs": [],
   "source": [
    "train_dataset = dataset[\"train\"]\n",
    "train_bad_loader = create_lotr_dataloader_from_dataset(\n",
    "    tokenizer, train_dataset, batch_size=args.batch_size\n",
    "    )"
   ]
  },
  {
   "cell_type": "code",
   "execution_count": null,
   "metadata": {},
   "outputs": [],
   "source": []
  },
  {
   "cell_type": "code",
   "execution_count": null,
   "metadata": {},
   "outputs": [],
   "source": []
  },
  {
   "cell_type": "code",
   "execution_count": 10,
   "metadata": {},
   "outputs": [],
   "source": [
    "# Start unlearning.\n",
    "bad_loss = 0.0\n",
    "idx = 0\n",
    "# start_time = time.time()"
   ]
  },
  {
   "cell_type": "code",
   "execution_count": null,
   "metadata": {},
   "outputs": [],
   "source": [
    "# Stop if bad loss is big enough or reaching max step.\n",
    "# start_time = time.time()\n",
    "while bad_loss < args.max_bad_loss and idx < args.max_unlearn_steps:\n",
    "    for bad_batch in (train_bad_loader):\n",
    "        ############ GA on answer only. ############\n",
    "        bad_loss = get_answer_loss(\"ga\", bad_batch, model, device=device)\n",
    "\n",
    "        ############ Random mismatch. ############\n",
    "        random_loss = get_rand_ans_loss(\n",
    "            bad_batch,\n",
    "            tokenizer,\n",
    "            normal_ans,\n",
    "            model,\n",
    "            K=5,\n",
    "            device=device,\n",
    "        )"
   ]
  }
 ],
 "metadata": {
  "kernelspec": {
   "display_name": "my_env",
   "language": "python",
   "name": "my_env"
  },
  "language_info": {
   "codemirror_mode": {
    "name": "ipython",
    "version": 3
   },
   "file_extension": ".py",
   "mimetype": "text/x-python",
   "name": "python",
   "nbconvert_exporter": "python",
   "pygments_lexer": "ipython3",
   "version": "3.11.5"
  }
 },
 "nbformat": 4,
 "nbformat_minor": 4
}
